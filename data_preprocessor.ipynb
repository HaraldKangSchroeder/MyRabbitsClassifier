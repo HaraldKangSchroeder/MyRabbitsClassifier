{
 "cells": [
  {
   "cell_type": "code",
   "execution_count": 25,
   "metadata": {},
   "outputs": [],
   "source": [
    "import matplotlib.pyplot as plt\n",
    "import numpy as np\n",
    "import os\n",
    "import random\n",
    "import tensorflow as tf\n",
    "from tensorflow import keras\n",
    "from tensorflow.keras.preprocessing.image import ImageDataGenerator\n",
    "from PIL import Image\n"
   ]
  },
  {
   "cell_type": "code",
   "execution_count": 26,
   "metadata": {},
   "outputs": [],
   "source": [
    "def plotImages(images_arr):\n",
    "    fig, axes = plt.subplots(1, 10, figsize=(20,20))\n",
    "    axes = axes.flatten()\n",
    "    for img, ax in zip( images_arr , axes ):\n",
    "        ax.imshow(img)\n",
    "        ax.axis(\"off\")\n",
    "    plt.tight_layout()\n",
    "    plt.show()"
   ]
  },
  {
   "cell_type": "code",
   "execution_count": 27,
   "metadata": {},
   "outputs": [],
   "source": [
    "def saveNumpyImage(numpy_image, dest_path):\n",
    "    image = Image.fromarray(numpy_image)\n",
    "    image.save(dest_path)"
   ]
  },
  {
   "cell_type": "code",
   "execution_count": 28,
   "metadata": {},
   "outputs": [],
   "source": [
    "\n",
    "def augmentData(src_dir, dest_dir, image_generator, augmented_images_count=5):\n",
    "    # iterate over all images in the passed directory\n",
    "    for filename in os.listdir(src_dir):\n",
    "        if os.path.isfile(os.path.join(dest_dir, filename)):\n",
    "            continue\n",
    "        filename_without_extension = filename.split('.')[0]\n",
    "        image_path = os.path.join(src_dir, filename)\n",
    "\n",
    "        # extract image\n",
    "        image = np.expand_dims(plt.imread(image_path), 0)\n",
    "\n",
    "        # augment image\n",
    "        aug_iter = image_generator.flow(image)\n",
    "        aug_images = [next(aug_iter)[0].astype(np.uint8) for i in range(augmented_images_count)]\n",
    "\n",
    "        # save original image in destination directory as well\n",
    "        saveNumpyImage(image[0], dest_dir + \"/\" + filename)\n",
    "\n",
    "        # iterate over all augmented images and save them in the destination directory which an additional suffix\n",
    "        suffix = 0\n",
    "        for aug_image in aug_images:\n",
    "            saveNumpyImage(aug_image, dest_dir + \"/\" + filename_without_extension + \"_\" + str(suffix) + \".jpg\")\n",
    "            suffix += 1\n",
    "        \n"
   ]
  },
  {
   "cell_type": "code",
   "execution_count": 29,
   "metadata": {},
   "outputs": [],
   "source": [
    "# NOTE : train_samples_count + valid_samples_count + test_samples_count must be smaller than the number of files in src_dir\n",
    "# NOTE : it also assumes the class directories of the dest_dir sub directories (train, valid, test) to be empty\n",
    "def prepareModelData(src_dir, dest_dir, c, train_samples_count, valid_samples_count, test_samples_count):\n",
    "    print(len([name for name in os.listdir(src_dir)]))\n",
    "    if train_samples_count + valid_samples_count + test_samples_count > len([name for name in os.listdir(src_dir)]):\n",
    "        print(\"samples counts too large\")\n",
    "        return\n",
    "\n",
    "    counter = 0\n",
    "    for filename in os.listdir(src_dir):\n",
    "        image_path = os.path.join(src_dir, filename)\n",
    "        # extract image\n",
    "        image = np.expand_dims(plt.imread(image_path), 0)\n",
    "\n",
    "        if counter < train_samples_count:\n",
    "            saveNumpyImage(image[0], dest_dir + \"/train/\" + c + \"/\" + filename)\n",
    "        elif counter < train_samples_count + valid_samples_count:\n",
    "            saveNumpyImage(image[0], dest_dir + \"/valid/\" + c + \"/\" + filename)\n",
    "        elif counter < train_samples_count + valid_samples_count + test_samples_count:\n",
    "            saveNumpyImage(image[0], dest_dir + \"/test/\" + c + \"/\" + filename)\n",
    "        else:\n",
    "            saveNumpyImage(image[0], dest_dir + \"/train/\" + c + \"/\" + filename)\n",
    "        \n",
    "        counter += 1\n"
   ]
  },
  {
   "cell_type": "code",
   "execution_count": 30,
   "metadata": {},
   "outputs": [],
   "source": [
    "classes = [\"andromeda\",\"merlin\",\"morgana\",\"perseus\"]\n"
   ]
  },
  {
   "cell_type": "code",
   "execution_count": 31,
   "metadata": {},
   "outputs": [],
   "source": [
    "gen = ImageDataGenerator(\n",
    "    rotation_range=20, \n",
    "    width_shift_range=0.1, \n",
    "    height_shift_range=0.1, \n",
    "    shear_range=0.1, \n",
    "    zoom_range=0.2, \n",
    "    channel_shift_range=20. , \n",
    "    vertical_flip=False,\n",
    "    horizontal_flip=True\n",
    ")"
   ]
  },
  {
   "cell_type": "code",
   "execution_count": 32,
   "metadata": {},
   "outputs": [],
   "source": [
    "\n",
    "# Create augmented versions of each image\n",
    "for c in classes:\n",
    "    augmentData(\n",
    "        src_dir=\"data/all/\" + c, \n",
    "        dest_dir=\"data/all/augmented/\" + c,\n",
    "        image_generator = gen, \n",
    "        augmented_images_count=10\n",
    "    )"
   ]
  },
  {
   "cell_type": "code",
   "execution_count": 33,
   "metadata": {},
   "outputs": [
    {
     "name": "stdout",
     "output_type": "stream",
     "text": [
      "1089\n",
      "1034\n",
      "1320\n",
      "1034\n"
     ]
    }
   ],
   "source": [
    "# Prepare data used by the model\n",
    "for c in classes:\n",
    "    prepareModelData(\n",
    "        src_dir=\"data/all/augmented/\" + c,\n",
    "        dest_dir=\"data\",\n",
    "        c=c,\n",
    "        train_samples_count=900,\n",
    "        valid_samples_count=100,\n",
    "        test_samples_count=30\n",
    "    )"
   ]
  },
  {
   "cell_type": "code",
   "execution_count": null,
   "metadata": {},
   "outputs": [],
   "source": []
  }
 ],
 "metadata": {
  "interpreter": {
   "hash": "f94dea8e537239cfdd4a522e307c0ab39236878427928438b4598c204b93900d"
  },
  "kernelspec": {
   "display_name": "Python 3.9.7 64-bit ('tf-gpu': conda)",
   "name": "python3"
  },
  "language_info": {
   "codemirror_mode": {
    "name": "ipython",
    "version": 3
   },
   "file_extension": ".py",
   "mimetype": "text/x-python",
   "name": "python",
   "nbconvert_exporter": "python",
   "pygments_lexer": "ipython3",
   "version": "3.9.7"
  },
  "orig_nbformat": 4
 },
 "nbformat": 4,
 "nbformat_minor": 2
}
